{
 "cells": [
  {
   "cell_type": "markdown",
   "metadata": {},
   "source": [
    "# WeatherPy\n",
    "----\n",
    "\n",
    "#### Note\n",
    "* Instructions have been included for each segment. You do not have to follow them exactly, but they are included to help you think through the steps."
   ]
  },
  {
   "cell_type": "code",
   "execution_count": 3,
   "metadata": {
    "scrolled": true
   },
   "outputs": [],
   "source": [
    "# Dependencies and Setup\n",
    "import matplotlib.pyplot as plt\n",
    "import pandas as pd\n",
    "import numpy as np\n",
    "import requests\n",
    "import time\n",
    "from scipy.stats import linregress\n",
    "from scipy import stats\n",
    "import json\n",
    "import os\n",
    "\n",
    "\n",
    "# Import API key\n",
    "from api_keys import weather_api_key\n",
    "\n",
    "# Incorporated citipy to determine city based on latitude and longitude\n",
    "from citipy import citipy\n",
    "\n",
    "# Output File (CSV)\n",
    "output_data_file = \"output_data/cities.csv\"\n",
    "\n",
    "# Range of latitudes and longitudes\n",
    "lat_range = (-90, 90)\n",
    "lng_range = (-180, 180)"
   ]
  },
  {
   "cell_type": "markdown",
   "metadata": {},
   "source": [
    "## Generate Cities List"
   ]
  },
  {
   "cell_type": "code",
   "execution_count": 4,
   "metadata": {},
   "outputs": [
    {
     "data": {
      "text/plain": [
       "607"
      ]
     },
     "execution_count": 4,
     "metadata": {},
     "output_type": "execute_result"
    }
   ],
   "source": [
    "# List for holding lat_lngs and cities\n",
    "lat_lngs = []\n",
    "cities = []\n",
    "\n",
    "# Create a set of random lat and lng combinations\n",
    "lats = np.random.uniform(lat_range[0], lat_range[1], size=1500)\n",
    "lngs = np.random.uniform(lng_range[0], lng_range[1], size=1500)\n",
    "lat_lngs = zip(lats, lngs)\n",
    "\n",
    "# Identify nearest city for each lat, lng combination\n",
    "for lat_lng in lat_lngs:\n",
    "    city = citipy.nearest_city(lat_lng[0], lat_lng[1]).city_name\n",
    "    \n",
    "    # If the city is unique, then add it to a our cities list\n",
    "    if city not in cities:\n",
    "        cities.append(city)\n",
    "\n",
    "# Print the city count to confirm sufficient count  (this is a list from citipy)\n",
    "len(cities)"
   ]
  },
  {
   "cell_type": "markdown",
   "metadata": {},
   "source": [
    "### Perform API Calls\n",
    "* Perform a weather check on each city using a series of successive API calls.\n",
    "* Include a print log of each city as it'sbeing processed (with the city number and city name).\n"
   ]
  },
  {
   "cell_type": "code",
   "execution_count": 5,
   "metadata": {},
   "outputs": [],
   "source": [
    "# Test the code using only 2 cities instead of 600+\n",
    "#cities = ['Paris', 'London']"
   ]
  },
  {
   "cell_type": "code",
   "execution_count": 6,
   "metadata": {
    "scrolled": true
   },
   "outputs": [
    {
     "name": "stdout",
     "output_type": "stream",
     "text": [
      "Processing: 0 : busselton\n",
      "Processing: 1 : faanui\n",
      "Processing: 2 : wembley\n",
      "Processing: 3 : okhotsk\n",
      "Processing: 4 : itarema\n",
      "Processing: 5 : ilulissat\n",
      "Processing: 6 : huarmey\n",
      "Processing: 7 : atar\n",
      "Processing: 8 : souillac\n",
      "Processing: 9 : berlevag\n",
      "Processing: 10 : pevek\n",
      "Processing: 11 : funtua\n",
      "Processing: 12 : panguna\n",
      "Processing: 13 : punta arenas\n",
      "Processing: 14 : qaqortoq\n",
      "Processing: 15 : mrakovo\n",
      "Processing: 16 : marabba\n",
      "Processing: 17 : mayo\n",
      "Processing: 18 : tazovskiy\n",
      "Processing: 19 : illoqqortoormiut\n",
      "Processing: 20 : castro\n",
      "Processing: 21 : buin\n",
      "Processing: 22 : georgetown\n",
      "Processing: 23 : bredasdorp\n",
      "Processing: 24 : hithadhoo\n",
      "Processing: 25 : east london\n",
      "Processing: 26 : barentsburg\n",
      "Processing: 27 : tuktoyaktuk\n",
      "Processing: 28 : arkhangelsk\n",
      "Processing: 29 : bluff\n",
      "Processing: 30 : puerto ayora\n",
      "Processing: 31 : albany\n",
      "Processing: 32 : taolanaro\n",
      "Processing: 33 : samarai\n",
      "Processing: 34 : benguela\n",
      "Processing: 35 : mataura\n",
      "Processing: 36 : san andres\n",
      "Processing: 37 : rikitea\n",
      "Processing: 38 : saskylakh\n",
      "Processing: 39 : saint-augustin\n",
      "Processing: 40 : narsaq\n",
      "Processing: 41 : mackay\n",
      "Processing: 42 : minbu\n",
      "Processing: 43 : jamestown\n",
      "Processing: 44 : chuy\n",
      "Processing: 45 : lamu\n",
      "Processing: 46 : pecos\n",
      "Processing: 47 : nuuk\n",
      "Processing: 48 : santiago\n",
      "Processing: 49 : puerto escondido\n",
      "Processing: 50 : karauzyak\n",
      "Processing: 51 : coquimbo\n",
      "Processing: 52 : qaanaaq\n",
      "Processing: 53 : susanville\n",
      "Processing: 54 : lafia\n",
      "Processing: 55 : vardo\n",
      "Processing: 56 : ribeira grande\n",
      "Processing: 57 : tyret pervaya\n",
      "Processing: 58 : solnechnyy\n",
      "Processing: 59 : vaini\n",
      "Processing: 60 : ucluelet\n",
      "Processing: 61 : kapaa\n",
      "Processing: 62 : new norfolk\n",
      "Processing: 63 : sitka\n",
      "Processing: 64 : kununurra\n",
      "Processing: 65 : telimele\n",
      "Processing: 66 : rocha\n",
      "Processing: 67 : hilo\n",
      "Processing: 68 : ushuaia\n",
      "Processing: 69 : sovetskaya gavan\n",
      "Processing: 70 : grand-lahou\n",
      "Processing: 71 : kodiak\n",
      "Processing: 72 : port blair\n",
      "Processing: 73 : meulaboh\n",
      "Processing: 74 : horconcitos\n",
      "Processing: 75 : capreol\n",
      "Processing: 76 : hudiksvall\n",
      "Processing: 77 : port alfred\n",
      "Processing: 78 : tual\n",
      "Processing: 79 : phan thiet\n",
      "Processing: 80 : kamenskoye\n",
      "Processing: 81 : juneau\n",
      "Processing: 82 : turmalina\n",
      "Processing: 83 : torbay\n",
      "Processing: 84 : bathsheba\n",
      "Processing: 85 : paka\n",
      "Processing: 86 : kavieng\n",
      "Processing: 87 : arraial do cabo\n",
      "Processing: 88 : provideniya\n",
      "Processing: 89 : sao jose da coroa grande\n",
      "Processing: 90 : nizhneyansk\n",
      "Processing: 91 : bonavista\n",
      "Processing: 92 : lompoc\n",
      "Processing: 93 : port elizabeth\n",
      "Processing: 94 : los llanos de aridane\n",
      "Processing: 95 : kushalnagar\n",
      "Processing: 96 : oussouye\n",
      "Processing: 97 : sambava\n",
      "Processing: 98 : hobart\n",
      "Processing: 99 : charters towers\n",
      "Processing: 100 : chokurdakh\n",
      "Processing: 101 : bereda\n",
      "Processing: 102 : arvika\n",
      "Processing: 103 : constitucion\n",
      "Processing: 104 : tuatapere\n",
      "Processing: 105 : scottsburgh\n",
      "Processing: 106 : plock\n",
      "Processing: 107 : buzmeyin\n",
      "Processing: 108 : wanning\n",
      "Processing: 109 : dongying\n",
      "Processing: 110 : hermanus\n",
      "Processing: 111 : lata\n",
      "Processing: 112 : vila\n",
      "Processing: 113 : butaritari\n",
      "Processing: 114 : iaciara\n",
      "Processing: 115 : laguna\n",
      "Processing: 116 : codrington\n",
      "Processing: 117 : ambikapur\n",
      "Processing: 118 : victoria\n",
      "Processing: 119 : paso de los toros\n",
      "Processing: 120 : jabiru\n",
      "Processing: 121 : rawson\n",
      "Processing: 122 : ixtapa\n",
      "Processing: 123 : bubaque\n",
      "Processing: 124 : san patricio\n",
      "Processing: 125 : vyartsilya\n",
      "Processing: 126 : lebu\n",
      "Processing: 127 : gainesville\n",
      "Processing: 128 : zhigansk\n",
      "Processing: 129 : bengkulu\n",
      "Processing: 130 : davila\n",
      "Processing: 131 : port shepstone\n",
      "Processing: 132 : cuenca\n",
      "Processing: 133 : cape town\n",
      "Processing: 134 : ponta do sol\n",
      "Processing: 135 : llanes\n",
      "Processing: 136 : attawapiskat\n",
      "Processing: 137 : dikson\n",
      "Processing: 138 : vallenar\n",
      "Processing: 139 : sentyabrskiy\n",
      "Processing: 140 : barrow\n",
      "Processing: 141 : grindavik\n",
      "Processing: 142 : saint-philippe\n",
      "Processing: 143 : alice springs\n",
      "Processing: 144 : lewistown\n",
      "Processing: 145 : khatanga\n",
      "Processing: 146 : mangrol\n",
      "Processing: 147 : yuzhno-kurilsk\n",
      "Processing: 148 : mys shmidta\n",
      "Processing: 149 : muli\n",
      "Processing: 150 : high rock\n",
      "Processing: 151 : tasiilaq\n",
      "Processing: 152 : mar del plata\n",
      "Processing: 153 : atuona\n",
      "Processing: 154 : pochutla\n",
      "Processing: 155 : mapiri\n",
      "Processing: 156 : port augusta\n",
      "Processing: 157 : avarua\n",
      "Processing: 158 : skjervoy\n",
      "Processing: 159 : gagnoa\n",
      "Processing: 160 : vila velha\n",
      "Processing: 161 : byron bay\n",
      "Processing: 162 : hella\n",
      "Processing: 163 : homer\n",
      "Processing: 164 : carnarvon\n",
      "Processing: 165 : poum\n",
      "Processing: 166 : sassandra\n",
      "Processing: 167 : malanje\n",
      "Processing: 168 : bambous virieux\n",
      "Processing: 169 : severo-kurilsk\n",
      "Processing: 170 : jackson\n",
      "Processing: 171 : nabire\n",
      "Processing: 172 : mildura\n",
      "Processing: 173 : mecca\n",
      "Processing: 174 : goderich\n",
      "Processing: 175 : nelson bay\n",
      "Processing: 176 : te anau\n",
      "Processing: 177 : lagoa\n",
      "Processing: 178 : chagda\n",
      "Processing: 179 : murray bridge\n",
      "Processing: 180 : tiksi\n",
      "Processing: 181 : walvis bay\n",
      "Processing: 182 : sao filipe\n",
      "Processing: 183 : yellowknife\n",
      "Processing: 184 : muroto\n",
      "Processing: 185 : fort nelson\n",
      "Processing: 186 : pisco\n",
      "Processing: 187 : natal\n",
      "Processing: 188 : horsham\n",
      "Processing: 189 : kattivakkam\n",
      "Processing: 190 : pakala\n",
      "Processing: 191 : geraldton\n",
      "Processing: 192 : ancud\n",
      "Processing: 193 : port lincoln\n",
      "Processing: 194 : nushki\n",
      "Processing: 195 : xinqing\n",
      "Processing: 196 : upernavik\n",
      "Processing: 197 : berdigestyakh\n",
      "Processing: 198 : pasinler\n",
      "Processing: 199 : thompson\n",
      "Processing: 200 : chake chake\n",
      "Processing: 201 : saint anthony\n",
      "Processing: 202 : awjilah\n",
      "Processing: 203 : chapais\n",
      "Processing: 204 : ciudad bolivar\n",
      "Processing: 205 : sao miguel do araguaia\n",
      "Processing: 206 : labuan\n",
      "Processing: 207 : tsihombe\n",
      "Processing: 208 : alta floresta\n",
      "Processing: 209 : grand river south east\n",
      "Processing: 210 : utiroa\n",
      "Processing: 211 : yambio\n",
      "Processing: 212 : lorengau\n",
      "Processing: 213 : atambua\n",
      "Processing: 214 : valley\n",
      "Processing: 215 : mahebourg\n",
      "Processing: 216 : mandalgovi\n",
      "Processing: 217 : belushya guba\n",
      "Processing: 218 : halifax\n",
      "Processing: 219 : dingle\n",
      "Processing: 220 : taoudenni\n",
      "Processing: 221 : kruisfontein\n",
      "Processing: 222 : sidhi\n",
      "Processing: 223 : san quintin\n",
      "Processing: 224 : orchard homes\n",
      "Processing: 225 : necochea\n",
      "Processing: 226 : lasa\n",
      "Processing: 227 : sladkovo\n",
      "Processing: 228 : omboue\n",
      "Processing: 229 : ardino\n",
      "Processing: 230 : baykit\n",
      "Processing: 231 : aklavik\n",
      "Processing: 232 : sohag\n",
      "Processing: 233 : khonuu\n",
      "Processing: 234 : burns lake\n",
      "Processing: 235 : arlit\n",
      "Processing: 236 : jalu\n",
      "Processing: 237 : grand gaube\n",
      "Processing: 238 : ariquemes\n",
      "Processing: 239 : ambulu\n",
      "Processing: 240 : minot\n",
      "Processing: 241 : viedma\n",
      "Processing: 242 : shatrovo\n",
      "Processing: 243 : coahuayana\n",
      "Processing: 244 : ballina\n",
      "Processing: 245 : moroni\n",
      "Processing: 246 : tessalit\n",
      "Processing: 247 : bethel\n",
      "Processing: 248 : stuttgart\n",
      "Processing: 249 : coulommiers\n",
      "Processing: 250 : pasighat\n",
      "Processing: 251 : taltal\n",
      "Processing: 252 : san cristobal\n",
      "Processing: 253 : amberley\n",
      "Processing: 254 : shimoda\n",
      "Processing: 255 : warin chamrap\n",
      "Processing: 256 : hokitika\n",
      "Processing: 257 : airai\n",
      "Processing: 258 : samusu\n",
      "Processing: 259 : vaitupu\n",
      "Processing: 260 : kalush\n",
      "Processing: 261 : trelew\n",
      "Processing: 262 : lemesos\n",
      "Processing: 263 : caxito\n",
      "Processing: 264 : sale\n",
      "Processing: 265 : palabuhanratu\n",
      "Processing: 266 : amderma\n",
      "Processing: 267 : nanortalik\n",
      "Processing: 268 : nishihara\n",
      "Processing: 269 : luebo\n",
      "Processing: 270 : zlatoustovsk\n",
      "Processing: 271 : klaksvik\n",
      "Processing: 272 : ferme-neuve\n",
      "Processing: 273 : lunavada\n",
      "Processing: 274 : cayenne\n",
      "Processing: 275 : bukama\n",
      "Processing: 276 : plettenberg bay\n",
      "Processing: 277 : patrasaer\n",
      "Processing: 278 : mocuba\n",
      "Processing: 279 : kaitangata\n",
      "Processing: 280 : ngama\n",
      "Processing: 281 : valparaiso\n",
      "Processing: 282 : skagastrond\n",
      "Processing: 283 : sungaipenuh\n",
      "Processing: 284 : matsanga\n",
      "Processing: 285 : gushikawa\n",
      "Processing: 286 : xai-xai\n",
      "Processing: 287 : soyo\n",
      "Processing: 288 : fortuna\n",
      "Processing: 289 : lubango\n",
      "Processing: 290 : chardara\n",
      "Processing: 291 : watertown\n",
      "Processing: 292 : isangel\n",
      "Processing: 293 : portland\n",
      "Processing: 294 : saleaula\n",
      "Processing: 295 : hasaki\n",
      "Processing: 296 : faya\n",
      "Processing: 297 : beloha\n",
      "Processing: 298 : acarau\n",
      "Processing: 299 : salalah\n",
      "Processing: 300 : tucuman\n",
      "Processing: 301 : omsukchan\n",
      "Processing: 302 : moncton\n",
      "Processing: 303 : ewa beach\n",
      "Processing: 304 : luau\n",
      "Processing: 305 : gujar khan\n",
      "Processing: 306 : alofi\n",
      "Processing: 307 : mana\n",
      "Processing: 308 : comodoro rivadavia\n",
      "Processing: 309 : spassk-dalniy\n",
      "Processing: 310 : norman wells\n",
      "Processing: 311 : tete\n",
      "Processing: 312 : cabo san lucas\n",
      "Processing: 313 : asau\n",
      "Processing: 314 : nadym\n",
      "Processing: 315 : kirakira\n",
      "Processing: 316 : bontang\n",
      "Processing: 317 : valjala\n",
      "Processing: 318 : dalbandin\n",
      "Processing: 319 : jieshi\n",
      "Processing: 320 : ye\n",
      "Processing: 321 : harrisburg\n",
      "Processing: 322 : crixas\n",
      "Processing: 323 : teshie\n",
      "Processing: 324 : saint george\n",
      "Processing: 325 : ksenyevka\n",
      "Processing: 326 : guiyang\n",
      "Processing: 327 : sault sainte marie\n",
      "Processing: 328 : pahalgam\n",
      "Processing: 329 : aksarka\n",
      "Processing: 330 : ostersund\n",
      "Processing: 331 : nizwa\n",
      "Processing: 332 : badhni kalan\n",
      "Processing: 333 : hvammstangi\n",
      "Processing: 334 : antalaha\n",
      "Processing: 335 : lagunas\n",
      "Processing: 336 : nikolskoye\n",
      "Processing: 337 : maamba\n",
      "Processing: 338 : french harbor\n",
      "Processing: 339 : porto walter\n",
      "Processing: 340 : skalistyy\n",
      "Processing: 341 : miraflores\n",
      "Processing: 342 : namibe\n",
      "Processing: 343 : siderno\n",
      "Processing: 344 : gorontalo\n",
      "Processing: 345 : lhuntshi\n",
      "Processing: 346 : gwadar\n",
      "Processing: 347 : olga\n",
      "Processing: 348 : chail\n",
      "Processing: 349 : nuevitas\n",
      "Processing: 350 : znamenskoye\n",
      "Processing: 351 : cherskiy\n",
      "Processing: 352 : rio grande\n",
      "Processing: 353 : muskegon\n",
      "Processing: 354 : dunedin\n",
      "Processing: 355 : lusambo\n",
      "Processing: 356 : hobyo\n",
      "Processing: 357 : dunda\n",
      "Processing: 358 : tanakpur\n",
      "Processing: 359 : yulara\n",
      "Processing: 360 : hami\n",
      "Processing: 361 : atasu\n",
      "Processing: 362 : launceston\n",
      "Processing: 363 : vedaranniyam\n",
      "Processing: 364 : hay river\n",
      "Processing: 365 : cancun\n",
      "Processing: 366 : auki\n",
      "Processing: 367 : lyngseidet\n",
      "Processing: 368 : husavik\n",
      "Processing: 369 : barcelos\n",
      "Processing: 370 : assis\n",
      "Processing: 371 : luderitz\n",
      "Processing: 372 : thinadhoo\n",
      "Processing: 373 : karaton\n",
      "Processing: 374 : lumeje\n",
      "Processing: 375 : talara\n",
      "Processing: 376 : guerrero negro\n",
      "Processing: 377 : maloshuyka\n",
      "Processing: 378 : rungata\n",
      "Processing: 379 : nanning\n",
      "Processing: 380 : hofn\n",
      "Processing: 381 : mgandu\n",
      "Processing: 382 : turukhansk\n",
      "Processing: 383 : quelimane\n",
      "Processing: 384 : nemuro\n",
      "Processing: 385 : waipawa\n",
      "Processing: 386 : flin flon\n",
      "Processing: 387 : sayalgudi\n",
      "Processing: 388 : manjeshwar\n",
      "Processing: 389 : qui nhon\n",
      "Processing: 390 : sibolga\n",
      "Processing: 391 : trapani\n",
      "Processing: 392 : viet tri\n",
      "Processing: 393 : tombouctou\n",
      "Processing: 394 : pekan\n",
      "Processing: 395 : wanaka\n",
      "Processing: 396 : margate\n",
      "Processing: 397 : shostka\n",
      "Processing: 398 : iquitos\n",
      "Processing: 399 : tshela\n",
      "Processing: 400 : palencia\n",
      "Processing: 401 : nome\n",
      "Processing: 402 : hamilton\n",
      "Processing: 403 : mancio lima\n",
      "Processing: 404 : leningradskiy\n",
      "Processing: 405 : gobabis\n",
      "Processing: 406 : komsomolskiy\n",
      "Processing: 407 : saint-francois\n",
      "Processing: 408 : sterling\n",
      "Processing: 409 : sorong\n",
      "Processing: 410 : pedernales\n",
      "Processing: 411 : labuhan\n",
      "Processing: 412 : mabaruma\n",
      "Processing: 413 : magadan\n",
      "Processing: 414 : batouri\n",
      "Processing: 415 : srednekolymsk\n",
      "Processing: 416 : gornyy\n",
      "Processing: 417 : christchurch\n",
      "Processing: 418 : kholmogory\n",
      "Processing: 419 : sayville\n",
      "Processing: 420 : cam ranh\n",
      "Processing: 421 : addi ugri\n",
      "Processing: 422 : severo-yeniseyskiy\n",
      "Processing: 423 : novyy svit\n",
      "Processing: 424 : tsaratanana\n",
      "Processing: 425 : mezen\n",
      "Processing: 426 : bakurianis andeziti\n",
      "Processing: 427 : pali\n",
      "Processing: 428 : mao\n",
      "Processing: 429 : touros\n",
      "Processing: 430 : gat\n",
      "Processing: 431 : tanout\n",
      "Processing: 432 : bafoulabe\n",
      "Processing: 433 : pangnirtung\n",
      "Processing: 434 : vokhtoga\n",
      "Processing: 435 : powell river\n",
      "Processing: 436 : gurgan\n",
      "Processing: 437 : nizhneivkino\n",
      "Processing: 438 : richards bay\n",
      "Processing: 439 : yar-sale\n",
      "Processing: 440 : katsuura\n",
      "Processing: 441 : cidreira\n",
      "Processing: 442 : clyde river\n",
      "Processing: 443 : burnie\n",
      "Processing: 444 : kahului\n",
      "Processing: 445 : ardakan\n",
      "Processing: 446 : staraya russa\n",
      "Processing: 447 : billings\n",
      "Processing: 448 : sabha\n",
      "Processing: 449 : saint-denis\n",
      "Processing: 450 : saldanha\n",
      "Processing: 451 : moscow\n",
      "Processing: 452 : lerik\n",
      "Processing: 453 : kloulklubed\n",
      "Processing: 454 : ocampo\n",
      "Processing: 455 : oktyabrskoye\n",
      "Processing: 456 : palu\n",
      "Processing: 457 : hambantota\n",
      "Processing: 458 : luocheng\n",
      "Processing: 459 : mount isa\n",
      "Processing: 460 : liminangcong\n",
      "Processing: 461 : anito\n",
      "Processing: 462 : waddan\n",
      "Processing: 463 : noboribetsu\n",
      "Processing: 464 : joshimath\n",
      "Processing: 465 : saiha\n",
      "Processing: 466 : fairbanks\n",
      "Processing: 467 : chernyshevskiy\n",
      "Processing: 468 : pallasovka\n",
      "Processing: 469 : tumannyy\n",
      "Processing: 470 : kaolack\n",
      "Processing: 471 : balabac\n",
      "Processing: 472 : esperance\n",
      "Processing: 473 : tabiauea\n",
      "Processing: 474 : tala\n",
      "Processing: 475 : tigzirt\n",
      "Processing: 476 : garden city\n",
      "Processing: 477 : formosa\n",
      "Processing: 478 : nyurba\n",
      "Processing: 479 : puerto del rosario\n",
      "Processing: 480 : gweta\n",
      "Processing: 481 : san pedro\n",
      "Processing: 482 : andros town\n",
      "Processing: 483 : arosa\n",
      "Processing: 484 : hearst\n",
      "Processing: 485 : harlingen\n",
      "Processing: 486 : zhuanghe\n",
      "Processing: 487 : manavalakurichi\n",
      "Processing: 488 : kulhudhuffushi\n",
      "Processing: 489 : bud\n",
      "Processing: 490 : zwedru\n",
      "Processing: 491 : hadgaon\n",
      "Processing: 492 : batu\n",
      "Processing: 493 : rosarito\n",
      "Processing: 494 : lethem\n",
      "Processing: 495 : batemans bay\n",
      "Processing: 496 : beringovskiy\n",
      "Processing: 497 : galle\n",
      "Processing: 498 : kem\n",
      "Processing: 499 : ostrovnoy\n",
      "Processing: 500 : gatak\n",
      "Processing: 501 : nsoko\n",
      "Processing: 502 : yamaranguila\n",
      "Processing: 503 : lavrentiya\n",
      "Processing: 504 : ankang\n",
      "Processing: 505 : bara\n",
      "Processing: 506 : nuevo progreso\n",
      "Processing: 507 : russell\n",
      "Processing: 508 : port-cartier\n",
      "Processing: 509 : caetite\n",
      "Processing: 510 : cockburn town\n",
      "Processing: 511 : fonte boa\n",
      "Processing: 512 : ayr\n",
      "Processing: 513 : zile\n",
      "Processing: 514 : odweyne\n",
      "Processing: 515 : paso de carrasco\n",
      "Processing: 516 : chabahar\n",
      "Processing: 517 : coos bay\n",
      "Processing: 518 : banda aceh\n",
      "Processing: 519 : mount gambier\n",
      "Processing: 520 : suez\n",
      "Processing: 521 : kismayo\n",
      "Processing: 522 : takanosu\n",
      "Processing: 523 : caravelas\n",
      "Processing: 524 : prainha\n",
      "Processing: 525 : port-gentil\n",
      "Processing: 526 : marystown\n",
      "Processing: 527 : steamboat springs\n",
      "Processing: 528 : tarko-sale\n",
      "Processing: 529 : teguldet\n",
      "Processing: 530 : sorland\n",
      "Processing: 531 : nogliki\n",
      "Processing: 532 : myski\n",
      "Processing: 533 : coihaique\n",
      "Processing: 534 : abrau-dyurso\n",
      "Processing: 535 : sao joao da barra\n",
      "Processing: 536 : vila franca do campo\n",
      "Processing: 537 : luganville\n",
      "Processing: 538 : mayumba\n",
      "Processing: 539 : awbari\n",
      "Processing: 540 : vilhena\n",
      "Processing: 541 : oranjestad\n",
      "Processing: 542 : flinders\n",
      "Processing: 543 : kavaratti\n",
      "Processing: 544 : fomboni\n",
      "Processing: 545 : la ronge\n",
      "Processing: 546 : aitape\n",
      "Processing: 547 : kargat\n",
      "Processing: 548 : devils lake\n",
      "Processing: 549 : alexandria\n",
      "Processing: 550 : pueblo nuevo\n",
      "Processing: 551 : villa rica\n",
      "Processing: 552 : korla\n",
      "Processing: 553 : acajutla\n",
      "Processing: 554 : henties bay\n",
      "Processing: 555 : tabas\n",
      "Processing: 556 : visby\n",
      "Processing: 557 : jacareacanga\n",
      "Processing: 558 : talnakh\n",
      "Processing: 559 : khandbari\n",
      "Processing: 560 : concordia\n",
      "Processing: 561 : jiaonan\n",
      "Processing: 562 : kaa-khem\n",
      "Processing: 563 : iqaluit\n",
      "Processing: 564 : polczyn-zdroj\n",
      "Processing: 565 : mongagua\n",
      "Processing: 566 : paragominas\n",
      "Processing: 567 : bose\n",
      "Processing: 568 : asosa\n",
      "Processing: 569 : fiumicino\n",
      "Processing: 570 : verkhniy avzyan\n",
      "Processing: 571 : tosham\n",
      "Processing: 572 : anapskaya\n",
      "Processing: 573 : praia da vitoria\n",
      "Processing: 574 : rioja\n",
      "Processing: 575 : dryden\n",
      "Processing: 576 : bihoro\n",
      "Processing: 577 : sawtell\n",
      "Processing: 578 : mbandaka\n",
      "Processing: 579 : benjamin constant\n",
      "Processing: 580 : bur gabo\n",
      "Processing: 581 : dawson creek\n",
      "Processing: 582 : bandarbeyla\n",
      "Processing: 583 : bilma\n",
      "Processing: 584 : cartagena del chaira\n",
      "Processing: 585 : mehamn\n",
      "Processing: 586 : potamia\n",
      "Processing: 587 : hervey bay\n",
      "Processing: 588 : severnyy\n",
      "Processing: 589 : whitecourt\n",
      "Processing: 590 : puerto baquerizo moreno\n",
      "Processing: 591 : maine-soroa\n",
      "Processing: 592 : matou\n",
      "Processing: 593 : roma\n",
      "Processing: 594 : tacoronte\n",
      "Processing: 595 : san fernando\n",
      "Processing: 596 : bealanana\n",
      "Processing: 597 : la crau\n",
      "Processing: 598 : kapit\n",
      "Processing: 599 : general roca\n",
      "Processing: 600 : copalillo\n",
      "Processing: 601 : beyneu\n",
      "Processing: 602 : vieques\n",
      "Processing: 603 : drovyanaya\n",
      "Processing: 604 : zuwarah\n",
      "Processing: 605 : moose factory\n",
      "Processing: 606 : bassum\n"
     ]
    }
   ],
   "source": [
    "url = 'https://openweathermap.org/api'\n",
    "\n",
    "query_url = url + 'appid=' + weather_api_key + '&q='\n",
    "\n",
    "\n",
    "# Loop through the list of cities and perform a request for data on each\n",
    "\n",
    "for x in range(len(cities)):\n",
    "    print(f'Processing: {x} : {cities[x]}')\n",
    "\n",
    "\n",
    "\n",
    "#api.openweathermap.org/data/2.5/weather?q={city name}&appid={API key}\n",
    "\n",
    "#a = requests.get(url)\n",
    "#response = a.json()\n",
    "#print(response)"
   ]
  },
  {
   "cell_type": "markdown",
   "metadata": {},
   "source": [
    "### Convert Raw Data to DataFrame\n",
    "* Export the city data into a .csv.\n",
    "* Display the DataFrame"
   ]
  },
  {
   "cell_type": "code",
   "execution_count": 30,
   "metadata": {},
   "outputs": [],
   "source": [
    "# Values needed from api: city name, lat, lng, max temp, humidity, cloudiness, windspeed, country, date\n",
    "\n",
    "name = []\n",
    "lat = []\n",
    "lng = []\n",
    "max_temp = []\n",
    "humid = []\n",
    "cloud = []\n",
    "wind = []\n",
    "country = []\n",
    "date = []\n",
    "\n",
    "\n",
    "#fahr = '&units=imperial'\n",
    "url_and_api = \"http://api.openweathermap.org/data/2.5/weather?units=imperial&appid=\"+ weather_api_key\n",
    "\n",
    "\n",
    "\n",
    "\n",
    "\n",
    "# Study documentation to see how to make the request\n",
    "for city in cities:\n",
    "    \n",
    "    try:\n",
    "    \n",
    "        response = requests.get(f'{url_and_api}&q={city}').json()\n",
    "        \n",
    "        name.append(response['name'])\n",
    "        lat.append(response['coord']['lat'])\n",
    "        lng.append(response['coord']['lon'])\n",
    "        \n",
    "        max_temp.append(response['main']['temp_max'])\n",
    "        humid.append(response['main']['humidity'])\n",
    "        \n",
    "        cloud.append(response['clouds']['all'])\n",
    "        wind.append(response['wind']['speed'])\n",
    "        country.append(response['sys']['country'])\n",
    "        date.append(response['dt'])\n",
    "        \n",
    "    \n",
    "    except:\n",
    "        name.append(None)\n",
    "        lat.append(None)\n",
    "        lng.append(None)\n",
    "        max_temp.append(None)\n",
    "        humid.append(None)\n",
    "        cloud.append(None)\n",
    "        wind.append(None)\n",
    "        country.append(None)\n",
    "        date.append(None)\n",
    "        \n",
    "    continue\n"
   ]
  },
  {
   "cell_type": "code",
   "execution_count": 31,
   "metadata": {},
   "outputs": [
    {
     "data": {
      "text/html": [
       "<div>\n",
       "<style scoped>\n",
       "    .dataframe tbody tr th:only-of-type {\n",
       "        vertical-align: middle;\n",
       "    }\n",
       "\n",
       "    .dataframe tbody tr th {\n",
       "        vertical-align: top;\n",
       "    }\n",
       "\n",
       "    .dataframe thead th {\n",
       "        text-align: right;\n",
       "    }\n",
       "</style>\n",
       "<table border=\"1\" class=\"dataframe\">\n",
       "  <thead>\n",
       "    <tr style=\"text-align: right;\">\n",
       "      <th></th>\n",
       "      <th>City</th>\n",
       "      <th>Lat</th>\n",
       "      <th>Lng</th>\n",
       "      <th>Max Temp</th>\n",
       "      <th>Humidity</th>\n",
       "      <th>Cloudiness</th>\n",
       "      <th>Wind Speed</th>\n",
       "      <th>Country</th>\n",
       "      <th>Date</th>\n",
       "    </tr>\n",
       "  </thead>\n",
       "  <tbody>\n",
       "    <tr>\n",
       "      <th>0</th>\n",
       "      <td>busselton</td>\n",
       "      <td>-33.6500</td>\n",
       "      <td>115.3333</td>\n",
       "      <td>60.01</td>\n",
       "      <td>72.0</td>\n",
       "      <td>26.0</td>\n",
       "      <td>5.99</td>\n",
       "      <td>AU</td>\n",
       "      <td>1.615747e+09</td>\n",
       "    </tr>\n",
       "    <tr>\n",
       "      <th>1</th>\n",
       "      <td>faanui</td>\n",
       "      <td>-16.4833</td>\n",
       "      <td>-151.7500</td>\n",
       "      <td>82.65</td>\n",
       "      <td>74.0</td>\n",
       "      <td>100.0</td>\n",
       "      <td>16.13</td>\n",
       "      <td>PF</td>\n",
       "      <td>1.615747e+09</td>\n",
       "    </tr>\n",
       "    <tr>\n",
       "      <th>2</th>\n",
       "      <td>wembley</td>\n",
       "      <td>-31.9333</td>\n",
       "      <td>115.8000</td>\n",
       "      <td>69.01</td>\n",
       "      <td>37.0</td>\n",
       "      <td>0.0</td>\n",
       "      <td>17.27</td>\n",
       "      <td>AU</td>\n",
       "      <td>1.615747e+09</td>\n",
       "    </tr>\n",
       "    <tr>\n",
       "      <th>3</th>\n",
       "      <td>okhotsk</td>\n",
       "      <td>59.3833</td>\n",
       "      <td>143.3000</td>\n",
       "      <td>1.80</td>\n",
       "      <td>78.0</td>\n",
       "      <td>99.0</td>\n",
       "      <td>9.26</td>\n",
       "      <td>RU</td>\n",
       "      <td>1.615747e+09</td>\n",
       "    </tr>\n",
       "    <tr>\n",
       "      <th>4</th>\n",
       "      <td>itarema</td>\n",
       "      <td>-2.9248</td>\n",
       "      <td>-39.9167</td>\n",
       "      <td>83.59</td>\n",
       "      <td>66.0</td>\n",
       "      <td>41.0</td>\n",
       "      <td>12.93</td>\n",
       "      <td>BR</td>\n",
       "      <td>1.615747e+09</td>\n",
       "    </tr>\n",
       "  </tbody>\n",
       "</table>\n",
       "</div>"
      ],
      "text/plain": [
       "        City      Lat       Lng  Max Temp  Humidity  Cloudiness  Wind Speed  \\\n",
       "0  busselton -33.6500  115.3333     60.01      72.0        26.0        5.99   \n",
       "1     faanui -16.4833 -151.7500     82.65      74.0       100.0       16.13   \n",
       "2    wembley -31.9333  115.8000     69.01      37.0         0.0       17.27   \n",
       "3    okhotsk  59.3833  143.3000      1.80      78.0        99.0        9.26   \n",
       "4    itarema  -2.9248  -39.9167     83.59      66.0        41.0       12.93   \n",
       "\n",
       "  Country          Date  \n",
       "0      AU  1.615747e+09  \n",
       "1      PF  1.615747e+09  \n",
       "2      AU  1.615747e+09  \n",
       "3      RU  1.615747e+09  \n",
       "4      BR  1.615747e+09  "
      ]
     },
     "execution_count": 31,
     "metadata": {},
     "output_type": "execute_result"
    }
   ],
   "source": [
    "w_data = pd.DataFrame({'City':cities, \n",
    "                             'Lat':lat,\n",
    "                             'Lng':lng,\n",
    "                             'Max Temp':max_temp,\n",
    "                             'Humidity':humid,\n",
    "                             'Cloudiness':cloud,\n",
    "                             'Wind Speed':wind,\n",
    "                             'Country':country,\n",
    "                             'Date':date\n",
    "                            })\n",
    "\n",
    "w_data.dropna(inplace=True)\n",
    "w_data.head()"
   ]
  },
  {
   "cell_type": "markdown",
   "metadata": {},
   "source": [
    "## Inspect the data and remove the cities where the humidity > 100%.\n",
    "----\n",
    "Skip this step if there are no cities that have humidity > 100%. "
   ]
  },
  {
   "cell_type": "code",
   "execution_count": 32,
   "metadata": {},
   "outputs": [
    {
     "data": {
      "text/plain": [
       "100.0"
      ]
     },
     "execution_count": 32,
     "metadata": {},
     "output_type": "execute_result"
    }
   ],
   "source": [
    "w_data['Humidity'].max()\n"
   ]
  },
  {
   "cell_type": "code",
   "execution_count": 33,
   "metadata": {},
   "outputs": [
    {
     "name": "stdout",
     "output_type": "stream",
     "text": [
      "There is no humidity over 100%\n"
     ]
    }
   ],
   "source": [
    "#  Get the indices of cities that have humidity over 100%.\n",
    "print('There is no humidity over 100%')"
   ]
  },
  {
   "cell_type": "code",
   "execution_count": 34,
   "metadata": {},
   "outputs": [],
   "source": [
    "# Make a new DataFrame equal to the city data to drop all humidity outliers by index.\n",
    "# Passing \"inplace=False\" will make a copy of the city_data DataFrame, which we call \"clean_city_data\".\n"
   ]
  },
  {
   "cell_type": "markdown",
   "metadata": {},
   "source": [
    "## Plotting the Data\n",
    "* Use proper labeling of the plots using plot titles (including date of analysis) and axes labels.\n",
    "* Save the plotted figures as .pngs."
   ]
  },
  {
   "cell_type": "markdown",
   "metadata": {},
   "source": [
    "## Latitude vs. Temperature Plot"
   ]
  },
  {
   "cell_type": "code",
   "execution_count": 35,
   "metadata": {
    "scrolled": true
   },
   "outputs": [
    {
     "data": {
      "image/png": "[encoded data removed]",
      "text/plain": [
       "<Figure size 432x288 with 1 Axes>"
      ]
     },
     "metadata": {
      "needs_background": "light"
     },
     "output_type": "display_data"
    }
   ],
   "source": [
    "# Plot Data\n",
    "x = w_data['Lat']\n",
    "y = w_data['Max Temp']\n",
    "plt.scatter(x,y)\n",
    "\n",
    "#Label\n",
    "plt.xlabel('Latitude')\n",
    "plt.ylabel('Max Temperature')\n",
    "plt.title('Latitude vs. Max Temperature (3/13/21)')\n",
    "plt.show()"
   ]
  },
  {
   "cell_type": "markdown",
   "metadata": {},
   "source": [
    "The 0 on the x axis marks the equator.  As you approach the equator from both the northern and southern hemispheres, temperature increases."
   ]
  },
  {
   "cell_type": "markdown",
   "metadata": {},
   "source": [
    "## Latitude vs. Humidity Plot"
   ]
  },
  {
   "cell_type": "code",
   "execution_count": 36,
   "metadata": {
    "scrolled": true
   },
   "outputs": [
    {
     "data": {
      "image/png": "[encoded data removed]",
      "text/plain": [
       "<Figure size 432x288 with 1 Axes>"
      ]
     },
     "metadata": {
      "needs_background": "light"
     },
     "output_type": "display_data"
    }
   ],
   "source": [
    "# Plot Data\n",
    "x = w_data['Lat']\n",
    "y = w_data['Humidity']\n",
    "plt.scatter(x,y)\n",
    "\n",
    "#Label\n",
    "plt.xlabel('Latitude')\n",
    "plt.ylabel('Humidity')\n",
    "plt.title('Latitude vs. Humidity (3/13/21)')\n",
    "plt.show()"
   ]
  },
  {
   "cell_type": "markdown",
   "metadata": {},
   "source": [
    "There is no relationship between humidity and latitude."
   ]
  },
  {
   "cell_type": "markdown",
   "metadata": {},
   "source": [
    "## Latitude vs. Cloudiness Plot"
   ]
  },
  {
   "cell_type": "code",
   "execution_count": 37,
   "metadata": {},
   "outputs": [
    {
     "data": {
      "image/png": "[encoded data removed]",
      "text/plain": [
       "<Figure size 432x288 with 1 Axes>"
      ]
     },
     "metadata": {
      "needs_background": "light"
     },
     "output_type": "display_data"
    }
   ],
   "source": [
    "# Plot Data\n",
    "x = w_data['Lat']\n",
    "y = w_data['Cloudiness']\n",
    "plt.scatter(x,y)\n",
    "\n",
    "#Label\n",
    "plt.xlabel('Latitude')\n",
    "plt.ylabel('Cloudiness')\n",
    "plt.title('Latitude vs. Cloudiness (3/13/21)')\n",
    "plt.show()"
   ]
  },
  {
   "cell_type": "markdown",
   "metadata": {},
   "source": [
    "There is no relationship between cloudiness and latitude."
   ]
  },
  {
   "cell_type": "markdown",
   "metadata": {},
   "source": [
    "## Latitude vs. Wind Speed Plot"
   ]
  },
  {
   "cell_type": "code",
   "execution_count": 38,
   "metadata": {},
   "outputs": [
    {
     "data": {
      "image/png": "[encoded data removed]",
      "text/plain": [
       "<Figure size 432x288 with 1 Axes>"
      ]
     },
     "metadata": {
      "needs_background": "light"
     },
     "output_type": "display_data"
    }
   ],
   "source": [
    "# Plot Data\n",
    "x = w_data['Lat']\n",
    "y = w_data['Wind Speed']\n",
    "plt.scatter(x,y)\n",
    "\n",
    "#Label\n",
    "plt.xlabel('Latitude')\n",
    "plt.ylabel('Wind Speed')\n",
    "plt.title('Latitude vs. Wind Speed (3/13/21)')\n",
    "plt.show()"
   ]
  },
  {
   "cell_type": "markdown",
   "metadata": {},
   "source": [
    "There is no relationship between wind speed and latitude."
   ]
  },
  {
   "cell_type": "markdown",
   "metadata": {},
   "source": [
    "## Linear Regression"
   ]
  },
  {
   "cell_type": "code",
   "execution_count": 78,
   "metadata": {},
   "outputs": [
    {
     "data": {
      "text/html": [
       "<div>\n",
       "<style scoped>\n",
       "    .dataframe tbody tr th:only-of-type {\n",
       "        vertical-align: middle;\n",
       "    }\n",
       "\n",
       "    .dataframe tbody tr th {\n",
       "        vertical-align: top;\n",
       "    }\n",
       "\n",
       "    .dataframe thead th {\n",
       "        text-align: right;\n",
       "    }\n",
       "</style>\n",
       "<table border=\"1\" class=\"dataframe\">\n",
       "  <thead>\n",
       "    <tr style=\"text-align: right;\">\n",
       "      <th></th>\n",
       "      <th>City</th>\n",
       "      <th>Lat</th>\n",
       "      <th>Lng</th>\n",
       "      <th>Max Temp</th>\n",
       "      <th>Humidity</th>\n",
       "      <th>Cloudiness</th>\n",
       "      <th>Wind Speed</th>\n",
       "      <th>Country</th>\n",
       "      <th>Date</th>\n",
       "    </tr>\n",
       "  </thead>\n",
       "  <tbody>\n",
       "    <tr>\n",
       "      <th>3</th>\n",
       "      <td>okhotsk</td>\n",
       "      <td>59.3833</td>\n",
       "      <td>143.3000</td>\n",
       "      <td>1.80</td>\n",
       "      <td>78.0</td>\n",
       "      <td>99.0</td>\n",
       "      <td>9.26</td>\n",
       "      <td>RU</td>\n",
       "      <td>1.615747e+09</td>\n",
       "    </tr>\n",
       "    <tr>\n",
       "      <th>5</th>\n",
       "      <td>ilulissat</td>\n",
       "      <td>69.2167</td>\n",
       "      <td>-51.1000</td>\n",
       "      <td>12.20</td>\n",
       "      <td>57.0</td>\n",
       "      <td>75.0</td>\n",
       "      <td>4.61</td>\n",
       "      <td>GL</td>\n",
       "      <td>1.615747e+09</td>\n",
       "    </tr>\n",
       "    <tr>\n",
       "      <th>7</th>\n",
       "      <td>atar</td>\n",
       "      <td>20.5169</td>\n",
       "      <td>-13.0499</td>\n",
       "      <td>83.17</td>\n",
       "      <td>15.0</td>\n",
       "      <td>0.0</td>\n",
       "      <td>8.84</td>\n",
       "      <td>MR</td>\n",
       "      <td>1.615747e+09</td>\n",
       "    </tr>\n",
       "    <tr>\n",
       "      <th>9</th>\n",
       "      <td>berlevag</td>\n",
       "      <td>70.8578</td>\n",
       "      <td>29.0864</td>\n",
       "      <td>26.60</td>\n",
       "      <td>93.0</td>\n",
       "      <td>75.0</td>\n",
       "      <td>3.44</td>\n",
       "      <td>NO</td>\n",
       "      <td>1.615747e+09</td>\n",
       "    </tr>\n",
       "    <tr>\n",
       "      <th>10</th>\n",
       "      <td>pevek</td>\n",
       "      <td>69.7008</td>\n",
       "      <td>170.3133</td>\n",
       "      <td>-5.04</td>\n",
       "      <td>97.0</td>\n",
       "      <td>100.0</td>\n",
       "      <td>13.58</td>\n",
       "      <td>RU</td>\n",
       "      <td>1.615747e+09</td>\n",
       "    </tr>\n",
       "  </tbody>\n",
       "</table>\n",
       "</div>"
      ],
      "text/plain": [
       "         City      Lat       Lng  Max Temp  Humidity  Cloudiness  Wind Speed  \\\n",
       "3     okhotsk  59.3833  143.3000      1.80      78.0        99.0        9.26   \n",
       "5   ilulissat  69.2167  -51.1000     12.20      57.0        75.0        4.61   \n",
       "7        atar  20.5169  -13.0499     83.17      15.0         0.0        8.84   \n",
       "9    berlevag  70.8578   29.0864     26.60      93.0        75.0        3.44   \n",
       "10      pevek  69.7008  170.3133     -5.04      97.0       100.0       13.58   \n",
       "\n",
       "   Country          Date  \n",
       "3       RU  1.615747e+09  \n",
       "5       GL  1.615747e+09  \n",
       "7       MR  1.615747e+09  \n",
       "9       NO  1.615747e+09  \n",
       "10      RU  1.615747e+09  "
      ]
     },
     "execution_count": 78,
     "metadata": {},
     "output_type": "execute_result"
    }
   ],
   "source": [
    "# split dataframe into northern and southern hemisphere\n",
    "\n",
    "north_data = w_data.loc[(w_data['Lat']>=0)]\n",
    "south_data = w_data.loc[(w_data['Lat']<=0)]\n",
    "\n",
    "north_data.head()"
   ]
  },
  {
   "cell_type": "code",
   "execution_count": 79,
   "metadata": {},
   "outputs": [
    {
     "data": {
      "text/html": [
       "<div>\n",
       "<style scoped>\n",
       "    .dataframe tbody tr th:only-of-type {\n",
       "        vertical-align: middle;\n",
       "    }\n",
       "\n",
       "    .dataframe tbody tr th {\n",
       "        vertical-align: top;\n",
       "    }\n",
       "\n",
       "    .dataframe thead th {\n",
       "        text-align: right;\n",
       "    }\n",
       "</style>\n",
       "<table border=\"1\" class=\"dataframe\">\n",
       "  <thead>\n",
       "    <tr style=\"text-align: right;\">\n",
       "      <th></th>\n",
       "      <th>City</th>\n",
       "      <th>Lat</th>\n",
       "      <th>Lng</th>\n",
       "      <th>Max Temp</th>\n",
       "      <th>Humidity</th>\n",
       "      <th>Cloudiness</th>\n",
       "      <th>Wind Speed</th>\n",
       "      <th>Country</th>\n",
       "      <th>Date</th>\n",
       "    </tr>\n",
       "  </thead>\n",
       "  <tbody>\n",
       "    <tr>\n",
       "      <th>0</th>\n",
       "      <td>busselton</td>\n",
       "      <td>-33.6500</td>\n",
       "      <td>115.3333</td>\n",
       "      <td>60.01</td>\n",
       "      <td>72.0</td>\n",
       "      <td>26.0</td>\n",
       "      <td>5.99</td>\n",
       "      <td>AU</td>\n",
       "      <td>1.615747e+09</td>\n",
       "    </tr>\n",
       "    <tr>\n",
       "      <th>1</th>\n",
       "      <td>faanui</td>\n",
       "      <td>-16.4833</td>\n",
       "      <td>-151.7500</td>\n",
       "      <td>82.65</td>\n",
       "      <td>74.0</td>\n",
       "      <td>100.0</td>\n",
       "      <td>16.13</td>\n",
       "      <td>PF</td>\n",
       "      <td>1.615747e+09</td>\n",
       "    </tr>\n",
       "    <tr>\n",
       "      <th>2</th>\n",
       "      <td>wembley</td>\n",
       "      <td>-31.9333</td>\n",
       "      <td>115.8000</td>\n",
       "      <td>69.01</td>\n",
       "      <td>37.0</td>\n",
       "      <td>0.0</td>\n",
       "      <td>17.27</td>\n",
       "      <td>AU</td>\n",
       "      <td>1.615747e+09</td>\n",
       "    </tr>\n",
       "    <tr>\n",
       "      <th>4</th>\n",
       "      <td>itarema</td>\n",
       "      <td>-2.9248</td>\n",
       "      <td>-39.9167</td>\n",
       "      <td>83.59</td>\n",
       "      <td>66.0</td>\n",
       "      <td>41.0</td>\n",
       "      <td>12.93</td>\n",
       "      <td>BR</td>\n",
       "      <td>1.615747e+09</td>\n",
       "    </tr>\n",
       "    <tr>\n",
       "      <th>6</th>\n",
       "      <td>huarmey</td>\n",
       "      <td>-10.0681</td>\n",
       "      <td>-78.1522</td>\n",
       "      <td>78.19</td>\n",
       "      <td>68.0</td>\n",
       "      <td>27.0</td>\n",
       "      <td>10.25</td>\n",
       "      <td>PE</td>\n",
       "      <td>1.615747e+09</td>\n",
       "    </tr>\n",
       "  </tbody>\n",
       "</table>\n",
       "</div>"
      ],
      "text/plain": [
       "        City      Lat       Lng  Max Temp  Humidity  Cloudiness  Wind Speed  \\\n",
       "0  busselton -33.6500  115.3333     60.01      72.0        26.0        5.99   \n",
       "1     faanui -16.4833 -151.7500     82.65      74.0       100.0       16.13   \n",
       "2    wembley -31.9333  115.8000     69.01      37.0         0.0       17.27   \n",
       "4    itarema  -2.9248  -39.9167     83.59      66.0        41.0       12.93   \n",
       "6    huarmey -10.0681  -78.1522     78.19      68.0        27.0       10.25   \n",
       "\n",
       "  Country          Date  \n",
       "0      AU  1.615747e+09  \n",
       "1      PF  1.615747e+09  \n",
       "2      AU  1.615747e+09  \n",
       "4      BR  1.615747e+09  \n",
       "6      PE  1.615747e+09  "
      ]
     },
     "execution_count": 79,
     "metadata": {},
     "output_type": "execute_result"
    }
   ],
   "source": [
    "south_data.head()"
   ]
  },
  {
   "cell_type": "markdown",
   "metadata": {},
   "source": [
    "####  Northern Hemisphere - Max Temp vs. Latitude Linear Regression"
   ]
  },
  {
   "cell_type": "code",
   "execution_count": 85,
   "metadata": {},
   "outputs": [
    {
     "data": {
      "image/png": "[encoded data removed]",
      "text/plain": [
       "<Figure size 432x288 with 1 Axes>"
      ]
     },
     "metadata": {
      "needs_background": "light"
     },
     "output_type": "display_data"
    },
    {
     "name": "stdout",
     "output_type": "stream",
     "text": [
      "The correlation coeffecient is: 0.8029915939026299\n"
     ]
    }
   ],
   "source": [
    "# Plot Data\n",
    "x = north_data['Lat']\n",
    "y = north_data['Max Temp']\n",
    "plt.scatter(x,y)\n",
    "\n",
    "\n",
    "# Add Linear regression line\n",
    "(slope, intercept, rvalue, pvalue, stderr) = linregress(x, y)\n",
    "regress_values = x * slope + intercept\n",
    "line_eq = \"y = \" + str(round(slope,2)) + \"x + \" + str(round(intercept,2))\n",
    "\n",
    "plt.plot(x,regress_values,\"r-\")\n",
    "plt.annotate(line_eq,(0,10),fontsize=15,color=\"red\")\n",
    "\n",
    "#Label\n",
    "plt.xlabel('Latitude')\n",
    "plt.ylabel('Max Temperature')\n",
    "plt.title('Latitude vs. Max Temp for Northern Hemisphere (3/13/21)')\n",
    "plt.show()\n",
    "\n",
    "print(f'The correlation coeffecient is: {rvalue**2}')"
   ]
  },
  {
   "cell_type": "markdown",
   "metadata": {},
   "source": [
    "There is a strong negative relationship between latitude and Temp in the northern hemisphere.  Temperature decreases as you move away from the equator.  The relationship is strong because the northern hemisphere is currently tilted away from the sun and is coming out of winter."
   ]
  },
  {
   "cell_type": "markdown",
   "metadata": {},
   "source": [
    "####  Southern Hemisphere - Max Temp vs. Latitude Linear Regression"
   ]
  },
  {
   "cell_type": "code",
   "execution_count": 86,
   "metadata": {},
   "outputs": [
    {
     "data": {
      "image/png": "[encoded data removed]",
      "text/plain": [
       "<Figure size 432x288 with 1 Axes>"
      ]
     },
     "metadata": {
      "needs_background": "light"
     },
     "output_type": "display_data"
    },
    {
     "name": "stdout",
     "output_type": "stream",
     "text": [
      "The correlation coeffecient is: 0.35061033576047074\n"
     ]
    }
   ],
   "source": [
    "# Plot Data\n",
    "x = south_data['Lat']\n",
    "y = south_data['Max Temp']\n",
    "plt.scatter(x,y)\n",
    "\n",
    "# Add Linear regression line\n",
    "(slope, intercept, rvalue, pvalue, stderr) = linregress(x, y)\n",
    "regress_values = x * slope + intercept\n",
    "line_eq = \"y = \" + str(round(slope,2)) + \"x + \" + str(round(intercept,2))\n",
    "\n",
    "plt.plot(x,regress_values,\"r-\")\n",
    "plt.annotate(line_eq,(-55,90),fontsize=15,color=\"red\")\n",
    "\n",
    "\n",
    "#Label\n",
    "plt.xlabel('Latitude')\n",
    "plt.ylabel('Max Temperature')\n",
    "plt.title('Latitude vs. Max Temp for Southern Hemisphere (3/13/21)')\n",
    "plt.show()\n",
    "\n",
    "print(f'The correlation coeffecient is: {rvalue**2}')"
   ]
  },
  {
   "cell_type": "markdown",
   "metadata": {},
   "source": [
    "There is a weak positive relationship between temp and latitude in the southern hemisphere.  The southern hemisphere is currently tilted toward the sun and experiencing summer.  Therefore, the realtionship is weaker than the northern hemisphere."
   ]
  },
  {
   "cell_type": "markdown",
   "metadata": {},
   "source": [
    "####  Northern Hemisphere - Humidity (%) vs. Latitude Linear Regression"
   ]
  },
  {
   "cell_type": "code",
   "execution_count": 87,
   "metadata": {},
   "outputs": [
    {
     "data": {
      "image/png": "[encoded data removed]",
      "text/plain": [
       "<Figure size 432x288 with 1 Axes>"
      ]
     },
     "metadata": {
      "needs_background": "light"
     },
     "output_type": "display_data"
    },
    {
     "name": "stdout",
     "output_type": "stream",
     "text": [
      "The correlation coeffecient is: 0.08426269419100035\n"
     ]
    }
   ],
   "source": [
    "# Plot Data\n",
    "x = north_data['Lat']\n",
    "y = north_data['Humidity']\n",
    "plt.scatter(x,y)\n",
    "\n",
    "# Add Linear regression line\n",
    "(slope, intercept, rvalue, pvalue, stderr) = linregress(x, y)\n",
    "regress_values = x * slope + intercept\n",
    "line_eq = \"y = \" + str(round(slope,2)) + \"x + \" + str(round(intercept,2))\n",
    "\n",
    "plt.plot(x,regress_values,\"r-\")\n",
    "plt.annotate(line_eq,(40,10),fontsize=15,color=\"red\")\n",
    "\n",
    "#Label\n",
    "plt.xlabel('Latitude')\n",
    "plt.ylabel('Humidity')\n",
    "plt.title('Latitude vs. Humidity for Northern Hemisphere (3/13/21)')\n",
    "plt.show()\n",
    "\n",
    "print(f'The correlation coeffecient is: {rvalue**2}')"
   ]
  },
  {
   "cell_type": "markdown",
   "metadata": {},
   "source": [
    "There is no relationship between these two variables.  R-squared value < 0.35"
   ]
  },
  {
   "cell_type": "markdown",
   "metadata": {},
   "source": [
    "####  Southern Hemisphere - Humidity (%) vs. Latitude Linear Regression"
   ]
  },
  {
   "cell_type": "code",
   "execution_count": 88,
   "metadata": {},
   "outputs": [
    {
     "data": {
      "image/png": "[encoded data removed]",
      "text/plain": [
       "<Figure size 432x288 with 1 Axes>"
      ]
     },
     "metadata": {
      "needs_background": "light"
     },
     "output_type": "display_data"
    },
    {
     "name": "stdout",
     "output_type": "stream",
     "text": [
      "The correlation coeffecient is: 0.04143528329341365\n"
     ]
    }
   ],
   "source": [
    "# Plot Data\n",
    "x = south_data['Lat']\n",
    "y = south_data['Humidity']\n",
    "plt.scatter(x,y)\n",
    "\n",
    "\n",
    "# Add Linear regression line\n",
    "(slope, intercept, rvalue, pvalue, stderr) = linregress(x, y)\n",
    "regress_values = x * slope + intercept\n",
    "line_eq = \"y = \" + str(round(slope,2)) + \"x + \" + str(round(intercept,2))\n",
    "\n",
    "plt.plot(x,regress_values,\"r-\")\n",
    "plt.annotate(line_eq,(-25,30),fontsize=15,color=\"red\")\n",
    "\n",
    "\n",
    "#Label\n",
    "plt.xlabel('Latitude')\n",
    "plt.ylabel('Humidity')\n",
    "plt.title('Latitude vs. Humidity for Southern Hemisphere(3/13/21)')\n",
    "plt.show()\n",
    "\n",
    "print(f'The correlation coeffecient is: {rvalue**2}')"
   ]
  },
  {
   "cell_type": "markdown",
   "metadata": {},
   "source": [
    "There is no relationship between these two variables.  R-squared value < 0.35"
   ]
  },
  {
   "cell_type": "markdown",
   "metadata": {},
   "source": [
    "####  Northern Hemisphere - Cloudiness (%) vs. Latitude Linear Regression"
   ]
  },
  {
   "cell_type": "code",
   "execution_count": 89,
   "metadata": {},
   "outputs": [
    {
     "data": {
      "image/png": "[encoded data removed]",
      "text/plain": [
       "<Figure size 432x288 with 1 Axes>"
      ]
     },
     "metadata": {
      "needs_background": "light"
     },
     "output_type": "display_data"
    },
    {
     "name": "stdout",
     "output_type": "stream",
     "text": [
      "The correlation coeffecient is: 0.07620811185351675\n"
     ]
    }
   ],
   "source": [
    "# Plot Data\n",
    "x = north_data['Lat']\n",
    "y = north_data['Cloudiness']\n",
    "plt.scatter(x,y)\n",
    "\n",
    "# Add Linear regression line\n",
    "(slope, intercept, rvalue, pvalue, stderr) = linregress(x, y)\n",
    "regress_values = x * slope + intercept\n",
    "line_eq = \"y = \" + str(round(slope,2)) + \"x + \" + str(round(intercept,2))\n",
    "\n",
    "plt.plot(x,regress_values,\"r-\")\n",
    "plt.annotate(line_eq,(35,25),fontsize=15,color=\"red\")\n",
    "\n",
    "\n",
    "#Label\n",
    "plt.xlabel('Latitude')\n",
    "plt.ylabel('Cloudiness')\n",
    "plt.title('Latitude vs. Cloudiness for Northern Hemisphere (3/13/21)')\n",
    "plt.show()\n",
    "\n",
    "print(f'The correlation coeffecient is: {rvalue**2}')"
   ]
  },
  {
   "cell_type": "markdown",
   "metadata": {},
   "source": [
    "There is no relationship between these two variables.  R-squared value < 0.35"
   ]
  },
  {
   "cell_type": "markdown",
   "metadata": {},
   "source": [
    "####  Southern Hemisphere - Cloudiness (%) vs. Latitude Linear Regression"
   ]
  },
  {
   "cell_type": "code",
   "execution_count": 90,
   "metadata": {},
   "outputs": [
    {
     "data": {
      "image/png": "[encoded data removed]",
      "text/plain": [
       "<Figure size 432x288 with 1 Axes>"
      ]
     },
     "metadata": {
      "needs_background": "light"
     },
     "output_type": "display_data"
    },
    {
     "name": "stdout",
     "output_type": "stream",
     "text": [
      "The correlation coeffecient is: 0.021832723686818076\n"
     ]
    }
   ],
   "source": [
    "# Plot Data\n",
    "x = south_data['Lat']\n",
    "y = south_data['Cloudiness']\n",
    "plt.scatter(x,y)\n",
    "\n",
    "\n",
    "# Add Linear regression line\n",
    "(slope, intercept, rvalue, pvalue, stderr) = linregress(x, y)\n",
    "regress_values = x * slope + intercept\n",
    "line_eq = \"y = \" + str(round(slope,2)) + \"x + \" + str(round(intercept,2))\n",
    "\n",
    "plt.plot(x,regress_values,\"r-\")\n",
    "plt.annotate(line_eq,(-50,20),fontsize=15,color=\"red\")\n",
    "\n",
    "\n",
    "#Label\n",
    "plt.xlabel('Latitude')\n",
    "plt.ylabel('Cloudiness')\n",
    "plt.title('Latitude vs. Cloudiness for Southern Hemisphere (3/13/21)')\n",
    "plt.show()\n",
    "\n",
    "print(f'The correlation coeffecient is: {rvalue**2}')"
   ]
  },
  {
   "cell_type": "markdown",
   "metadata": {},
   "source": [
    "There is no relationship between these two variables.  R-squared value < 0.35"
   ]
  },
  {
   "cell_type": "markdown",
   "metadata": {},
   "source": [
    "####  Northern Hemisphere - Wind Speed (mph) vs. Latitude Linear Regression"
   ]
  },
  {
   "cell_type": "code",
   "execution_count": 91,
   "metadata": {},
   "outputs": [
    {
     "data": {
      "image/png": "[encoded data removed]",
      "text/plain": [
       "<Figure size 432x288 with 1 Axes>"
      ]
     },
     "metadata": {
      "needs_background": "light"
     },
     "output_type": "display_data"
    },
    {
     "name": "stdout",
     "output_type": "stream",
     "text": [
      "The correlation coeffecient is: 0.024249153388843828\n"
     ]
    }
   ],
   "source": [
    "# Plot Data\n",
    "x = north_data['Lat']\n",
    "y = north_data['Wind Speed']\n",
    "plt.scatter(x,y)\n",
    "\n",
    "\n",
    "# Add Linear regression line\n",
    "(slope, intercept, rvalue, pvalue, stderr) = linregress(x, y)\n",
    "regress_values = x * slope + intercept\n",
    "line_eq = \"y = \" + str(round(slope,2)) + \"x + \" + str(round(intercept,2))\n",
    "\n",
    "plt.plot(x,regress_values,\"r-\")\n",
    "plt.annotate(line_eq,(10,25),fontsize=15,color=\"red\")\n",
    "\n",
    "\n",
    "#Label\n",
    "plt.xlabel('Latitude')\n",
    "plt.ylabel('Wind Speed')\n",
    "plt.title('Latitude vs. Wind Speed for Northern Hemisphere (3/13/21)')\n",
    "plt.show()\n",
    "\n",
    "print(f'The correlation coeffecient is: {rvalue**2}')"
   ]
  },
  {
   "cell_type": "markdown",
   "metadata": {},
   "source": [
    "There is no relationship between these two variables.  R-squared value < 0.35"
   ]
  },
  {
   "cell_type": "markdown",
   "metadata": {},
   "source": [
    "####  Southern Hemisphere - Wind Speed (mph) vs. Latitude Linear Regression"
   ]
  },
  {
   "cell_type": "code",
   "execution_count": 92,
   "metadata": {},
   "outputs": [
    {
     "data": {
      "image/png": "[encoded data removed]",
      "text/plain": [
       "<Figure size 432x288 with 1 Axes>"
      ]
     },
     "metadata": {
      "needs_background": "light"
     },
     "output_type": "display_data"
    },
    {
     "name": "stdout",
     "output_type": "stream",
     "text": [
      "The correlation coeffecient is: 0.04154839485857083\n"
     ]
    }
   ],
   "source": [
    "# Plot Data\n",
    "x = south_data['Lat']\n",
    "y = south_data['Wind Speed']\n",
    "plt.scatter(x,y)\n",
    "\n",
    "\n",
    "# Add Linear regression line\n",
    "(slope, intercept, rvalue, pvalue, stderr) = linregress(x, y)\n",
    "regress_values = x * slope + intercept\n",
    "line_eq = \"y = \" + str(round(slope,2)) + \"x + \" + str(round(intercept,2))\n",
    "\n",
    "plt.plot(x,regress_values,\"r-\")\n",
    "plt.annotate(line_eq,(-55,20),fontsize=15,color=\"red\")\n",
    "\n",
    "\n",
    "#Label\n",
    "plt.xlabel('Latitude')\n",
    "plt.ylabel('Wind Speed')\n",
    "plt.title('Latitude vs. Wind Speed for Southern Hemisphere (3/13/21)')\n",
    "plt.show()\n",
    "\n",
    "print(f'The correlation coeffecient is: {rvalue**2}')"
   ]
  },
  {
   "cell_type": "markdown",
   "metadata": {},
   "source": [
    "There is no relationship between these two variables.  R-squared value < 0.35"
   ]
  },
  {
   "cell_type": "code",
   "execution_count": 49,
   "metadata": {},
   "outputs": [],
   "source": [
    "# export w_data to csv for VacationPy\n",
    "w_data.to_csv(\"output_data/Weather_data.csv\", index = False, header = True )"
   ]
  },
  {
   "cell_type": "code",
   "execution_count": null,
   "metadata": {},
   "outputs": [],
   "source": []
  }
 ],
 "metadata": {
  "anaconda-cloud": {},
  "kernel_info": {
   "name": "python3"
  },
  "kernelspec": {
   "display_name": "Python 3",
   "language": "python",
   "name": "python3"
  },
  "language_info": {
   "codemirror_mode": {
    "name": "ipython",
    "version": 3
   },
   "file_extension": ".py",
   "mimetype": "text/x-python",
   "name": "python",
   "nbconvert_exporter": "python",
   "pygments_lexer": "ipython3",
   "version": "3.8.5"
  },
  "latex_envs": {
   "LaTeX_envs_menu_present": true,
   "autoclose": false,
   "autocomplete": true,
   "bibliofile": "biblio.bib",
   "cite_by": "apalike",
   "current_citInitial": 1,
   "eqLabelWithNumbers": true,
   "eqNumInitial": 1,
   "hotkeys": {
    "equation": "Ctrl-E",
    "itemize": "Ctrl-I"
   },
   "labels_anchors": false,
   "latex_user_defs": false,
   "report_style_numbering": false,
   "user_envs_cfg": false
  },
  "nteract": {
   "version": "0.12.3"
  }
 },
 "nbformat": 4,
 "nbformat_minor": 2
}
